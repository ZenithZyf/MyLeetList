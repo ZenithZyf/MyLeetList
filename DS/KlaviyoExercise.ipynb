{
 "cells": [
  {
   "cell_type": "markdown",
   "metadata": {},
   "source": [
    "### Exercise 1\n",
    "The attached CSV file lists the customer, date, and dollar value of orders placed at a store in 2017. The actual gender and predicted gender of each customer is also provided. Please do not exclude $0 orders.\n",
    "\n",
    "Assemble a dataframe with one row per customer and the following columns:\n",
    "* customer_id \n",
    "* gender\n",
    "* most_recent_order_date \n",
    "* order_count (number of orders placed by this customer)\n",
    "\n",
    "Sort the dataframe by customer_id ascending and display the first 10 rows."
   ]
  },
  {
   "cell_type": "code",
   "execution_count": 1,
   "metadata": {},
   "outputs": [],
   "source": [
    "import pandas as pd"
   ]
  },
  {
   "cell_type": "code",
   "execution_count": 2,
   "metadata": {},
   "outputs": [],
   "source": [
    "order = pd.read_csv('screening_exercise_orders_v201810.csv')"
   ]
  },
  {
   "cell_type": "code",
   "execution_count": 8,
   "metadata": {},
   "outputs": [],
   "source": [
    "# add a 'order_count' column to the original dataset\n",
    "# initiate it as 1 since originally each row represents 1 order\n",
    "order['order_count'] = 1\n",
    "# aggregate them together:\n",
    "aggregation_functions = {'gender': 'first', 'date': 'last', 'order_count': 'sum'}\n",
    "order_new = order.groupby(order['customer_id']).aggregate(aggregation_functions).reset_index()"
   ]
  },
  {
   "cell_type": "code",
   "execution_count": 9,
   "metadata": {},
   "outputs": [
    {
     "data": {
      "text/html": [
       "<div>\n",
       "<style scoped>\n",
       "    .dataframe tbody tr th:only-of-type {\n",
       "        vertical-align: middle;\n",
       "    }\n",
       "\n",
       "    .dataframe tbody tr th {\n",
       "        vertical-align: top;\n",
       "    }\n",
       "\n",
       "    .dataframe thead th {\n",
       "        text-align: right;\n",
       "    }\n",
       "</style>\n",
       "<table border=\"1\" class=\"dataframe\">\n",
       "  <thead>\n",
       "    <tr style=\"text-align: right;\">\n",
       "      <th></th>\n",
       "      <th>customer_id</th>\n",
       "      <th>gender</th>\n",
       "      <th>date</th>\n",
       "      <th>order_count</th>\n",
       "    </tr>\n",
       "  </thead>\n",
       "  <tbody>\n",
       "    <tr>\n",
       "      <th>0</th>\n",
       "      <td>1000</td>\n",
       "      <td>0</td>\n",
       "      <td>2017-01-01 00:11:31</td>\n",
       "      <td>1</td>\n",
       "    </tr>\n",
       "    <tr>\n",
       "      <th>1</th>\n",
       "      <td>1001</td>\n",
       "      <td>0</td>\n",
       "      <td>2017-01-01 00:29:56</td>\n",
       "      <td>1</td>\n",
       "    </tr>\n",
       "    <tr>\n",
       "      <th>2</th>\n",
       "      <td>1002</td>\n",
       "      <td>1</td>\n",
       "      <td>2017-02-19 21:35:31</td>\n",
       "      <td>3</td>\n",
       "    </tr>\n",
       "    <tr>\n",
       "      <th>3</th>\n",
       "      <td>1003</td>\n",
       "      <td>1</td>\n",
       "      <td>2017-04-26 02:37:20</td>\n",
       "      <td>4</td>\n",
       "    </tr>\n",
       "    <tr>\n",
       "      <th>4</th>\n",
       "      <td>1004</td>\n",
       "      <td>0</td>\n",
       "      <td>2017-01-01 03:11:54</td>\n",
       "      <td>1</td>\n",
       "    </tr>\n",
       "    <tr>\n",
       "      <th>5</th>\n",
       "      <td>1005</td>\n",
       "      <td>1</td>\n",
       "      <td>2017-12-16 01:39:27</td>\n",
       "      <td>2</td>\n",
       "    </tr>\n",
       "    <tr>\n",
       "      <th>6</th>\n",
       "      <td>1006</td>\n",
       "      <td>1</td>\n",
       "      <td>2017-05-09 15:27:20</td>\n",
       "      <td>3</td>\n",
       "    </tr>\n",
       "    <tr>\n",
       "      <th>7</th>\n",
       "      <td>1007</td>\n",
       "      <td>0</td>\n",
       "      <td>2017-01-01 15:59:50</td>\n",
       "      <td>1</td>\n",
       "    </tr>\n",
       "    <tr>\n",
       "      <th>8</th>\n",
       "      <td>1008</td>\n",
       "      <td>0</td>\n",
       "      <td>2017-12-17 05:47:48</td>\n",
       "      <td>3</td>\n",
       "    </tr>\n",
       "    <tr>\n",
       "      <th>9</th>\n",
       "      <td>1009</td>\n",
       "      <td>1</td>\n",
       "      <td>2017-01-01 19:27:17</td>\n",
       "      <td>1</td>\n",
       "    </tr>\n",
       "  </tbody>\n",
       "</table>\n",
       "</div>"
      ],
      "text/plain": [
       "   customer_id  gender                 date  order_count\n",
       "0         1000       0  2017-01-01 00:11:31            1\n",
       "1         1001       0  2017-01-01 00:29:56            1\n",
       "2         1002       1  2017-02-19 21:35:31            3\n",
       "3         1003       1  2017-04-26 02:37:20            4\n",
       "4         1004       0  2017-01-01 03:11:54            1\n",
       "5         1005       1  2017-12-16 01:39:27            2\n",
       "6         1006       1  2017-05-09 15:27:20            3\n",
       "7         1007       0  2017-01-01 15:59:50            1\n",
       "8         1008       0  2017-12-17 05:47:48            3\n",
       "9         1009       1  2017-01-01 19:27:17            1"
      ]
     },
     "execution_count": 9,
     "metadata": {},
     "output_type": "execute_result"
    }
   ],
   "source": [
    "# show the first 10 rows\n",
    "order_new.head(10)"
   ]
  },
  {
   "cell_type": "markdown",
   "metadata": {},
   "source": [
    "### Exercise 2\n",
    "Plot the count of orders per week for the store."
   ]
  },
  {
   "cell_type": "code",
   "execution_count": 17,
   "metadata": {},
   "outputs": [],
   "source": [
    "import numpy as np\n",
    "import seaborn as sns\n",
    "import matplotlib.pyplot as plt"
   ]
  },
  {
   "cell_type": "code",
   "execution_count": 10,
   "metadata": {},
   "outputs": [],
   "source": [
    "# formatting the date\n",
    "order['date'] = pd.to_datetime(order['date'])\n",
    "# since 2017-01-01 is Sunday, lets suppose a week starts from Sunday for simplicity\n",
    "order['week_number'] = order.date.dt.strftime('%U')\n",
    "# group by week number and calculate the value\n",
    "# ocw: orders count per week\n",
    "ocw = order.groupby(['week_number'])['value'].count().astype('int')\n",
    "ocw = pd.DataFrame(data = ocw).reset_index()\n",
    "ocw.columns = ['week_number', 'orders_per_week']"
   ]
  },
  {
   "cell_type": "code",
   "execution_count": 12,
   "metadata": {},
   "outputs": [],
   "source": [
    "# set figure size\n",
    "plt.rcParams['figure.figsize'] = [15, 10]"
   ]
  },
  {
   "cell_type": "code",
   "execution_count": 14,
   "metadata": {},
   "outputs": [],
   "source": [
    "# define my palette for bar plot\n",
    "def colors_from_values(values, palette_name):\n",
    "    # normalize the values to range [0, 1]\n",
    "    normalized = (values - min(values)) / (max(values) - min(values))\n",
    "    # convert to indices\n",
    "    indices = np.round(normalized * (len(values) - 1)).astype(np.int32)\n",
    "    # use the indices to get the colors\n",
    "    palette = sns.color_palette(palette_name, len(values))\n",
    "    return np.array(palette).take(indices, axis=0)"
   ]
  },
  {
   "cell_type": "code",
   "execution_count": 18,
   "metadata": {},
   "outputs": [
    {
     "data": {
      "text/plain": [
       "<matplotlib.colorbar.Colorbar at 0x171090ccf28>"
      ]
     },
     "execution_count": 18,
     "metadata": {},
     "output_type": "execute_result"
    },
    {
     "data": {
      "image/png": "[encoded data removed]",
      "text/plain": [
       "<Figure size 1080x720 with 2 Axes>"
      ]
     },
     "metadata": {
      "needs_background": "light"
     },
     "output_type": "display_data"
    }
   ],
   "source": [
    "# plot the figure\n",
    "# array for plotting the colorbar\n",
    "norm = plt.Normalize(ocw['orders_per_week'].astype(int).min(), ocw['orders_per_week'].astype(int).max())\n",
    "sm = plt.cm.ScalarMappable(cmap=\"YlOrRd\", norm=norm)\n",
    "sm.set_array([])\n",
    "\n",
    "# barplot the number of orders per week. the more orders, the \"redder\" the color\n",
    "ax = sns.barplot(y = 'orders_per_week', x = 'week_number', data = ocw.astype(int), \n",
    "                 palette = colors_from_values(ocw['orders_per_week'].astype(int), \"YlOrRd\"))\n",
    "ax.set(xlabel = \"Week\\'s Number\", ylabel = \"Number of Orders per Week\")\n",
    "ax.figure.colorbar(sm)"
   ]
  },
  {
   "cell_type": "markdown",
   "metadata": {},
   "source": [
    "### Exercise 3\n",
    "We have provided a sqlite3 database named `exercise.db`. The schema of the relevant table is written here: \n",
    "\n",
    "```CREATE TABLE items (sku INT PRIMARY KEY, name VARCHAR, price INT)```\n",
    "\n",
    "Assume price is in cents. Connect to the database, then retrieve and print the name and SKU of each item in the table which has a price over $1.\n"
   ]
  },
  {
   "cell_type": "code",
   "execution_count": 19,
   "metadata": {},
   "outputs": [],
   "source": [
    "import sqlite3"
   ]
  },
  {
   "cell_type": "code",
   "execution_count": 20,
   "metadata": {},
   "outputs": [
    {
     "name": "stdout",
     "output_type": "stream",
     "text": [
      "('apple', 1)\n",
      "('cherry', 3)\n",
      "('dates', 4)\n"
     ]
    }
   ],
   "source": [
    "# connect to the database\n",
    "con = sqlite3.connect('exercise.db')\n",
    "# create a cursor\n",
    "c = con.cursor()\n",
    "# fetch all items with a price larger than 100 cents, and print the name and sku\n",
    "c.execute('''select name, sku from items where price > 100''')\n",
    "l = c.fetchall()\n",
    "for row in l:\n",
    "    print(row)"
   ]
  },
  {
   "cell_type": "markdown",
   "metadata": {},
   "source": [
    "### Exercise 4\n",
    "There is one bug in the following pair of functions. Find the bug, write an assertion that fails because of the bug, and then modify the functions to fix the bug and make your assertion pass. This code also could use some refactoring. Modify it to make it as clear, concise, and simple as possible, while still working correctly. \n"
   ]
  },
  {
   "cell_type": "code",
   "execution_count": 24,
   "metadata": {},
   "outputs": [],
   "source": [
    "class ShoppingList:\n",
    "    def __init__(self, store, items):\n",
    "        self.store = store\n",
    "        self.items = items\n",
    "\n",
    "class Item:\n",
    "    def __init__(self, name, price):\n",
    "        self.name = name\n",
    "        self.price = price\n",
    "        \n",
    "def total_cost(shopping_lists):\n",
    "    \"\"\"Given a list of ShoppingList, returns the total cost of the shopping lists, \n",
    "    or None if the input list is empty\"\"\"\n",
    "    if not shopping_lists:\n",
    "        return None\n",
    "    sum_so_far = 0\n",
    "    for shopping_list in shopping_lists:\n",
    "        sum_so_far += shopping_list_cost(shopping_list.items)\n",
    "    return sum_so_far\n",
    "\n",
    "def shopping_list_cost(shopping_list):\n",
    "    \"\"\"Given a list of Items, returns the total cost of that shopping list.\"\"\"\n",
    "    if not shopping_list:\n",
    "        return None\n",
    "    sum_so_far = 0\n",
    "    for item in shopping_list:\n",
    "        sum_so_far += item.price\n",
    "    return sum_so_far\n",
    "\n",
    "apple = Item(\"apple\", 1.23)\n",
    "almonds = Item(\"almonds\", 7.99)\n",
    "artichoke = Item(\"artichoke\", 4.99)\n",
    "shopping_list1 = ShoppingList(\"trader joe's\", [apple, almonds])\n",
    "\n",
    "assert shopping_list_cost([apple, almonds, artichoke]) == 1.23 + 7.99 + 4.99\n",
    "assert total_cost([shopping_list1]) == 1.23 + 7.99"
   ]
  },
  {
   "cell_type": "code",
   "execution_count": 25,
   "metadata": {
    "scrolled": true
   },
   "outputs": [
    {
     "ename": "TypeError",
     "evalue": "unsupported operand type(s) for +=: 'float' and 'NoneType'",
     "output_type": "error",
     "traceback": [
      "\u001b[1;31m---------------------------------------------------------------------------\u001b[0m",
      "\u001b[1;31mTypeError\u001b[0m                                 Traceback (most recent call last)",
      "\u001b[1;32m<ipython-input-25-c863d0d8d424>\u001b[0m in \u001b[0;36m<module>\u001b[1;34m\u001b[0m\n\u001b[0;32m      1\u001b[0m \u001b[0mshopping_list1\u001b[0m \u001b[1;33m=\u001b[0m \u001b[0mShoppingList\u001b[0m\u001b[1;33m(\u001b[0m\u001b[1;34m\"trader joe's\"\u001b[0m\u001b[1;33m,\u001b[0m \u001b[1;33m[\u001b[0m\u001b[0mapple\u001b[0m\u001b[1;33m,\u001b[0m \u001b[0malmonds\u001b[0m\u001b[1;33m]\u001b[0m\u001b[1;33m)\u001b[0m\u001b[1;33m\u001b[0m\u001b[1;33m\u001b[0m\u001b[0m\n\u001b[0;32m      2\u001b[0m \u001b[0mshopping_list2\u001b[0m \u001b[1;33m=\u001b[0m \u001b[0mShoppingList\u001b[0m\u001b[1;33m(\u001b[0m\u001b[1;34m\"Klaviyo\"\u001b[0m\u001b[1;33m,\u001b[0m \u001b[1;33m[\u001b[0m\u001b[1;33m]\u001b[0m\u001b[1;33m)\u001b[0m\u001b[1;33m\u001b[0m\u001b[1;33m\u001b[0m\u001b[0m\n\u001b[1;32m----> 3\u001b[1;33m \u001b[1;32massert\u001b[0m \u001b[0mtotal_cost\u001b[0m\u001b[1;33m(\u001b[0m\u001b[1;33m[\u001b[0m\u001b[0mshopping_list1\u001b[0m\u001b[1;33m,\u001b[0m \u001b[0mshopping_list2\u001b[0m\u001b[1;33m]\u001b[0m\u001b[1;33m)\u001b[0m \u001b[1;33m==\u001b[0m \u001b[1;36m1.23\u001b[0m \u001b[1;33m+\u001b[0m \u001b[1;36m7.99\u001b[0m\u001b[1;33m\u001b[0m\u001b[1;33m\u001b[0m\u001b[0m\n\u001b[0m",
      "\u001b[1;32m<ipython-input-24-71525e947d3d>\u001b[0m in \u001b[0;36mtotal_cost\u001b[1;34m(shopping_lists)\u001b[0m\n\u001b[0;32m     16\u001b[0m     \u001b[0msum_so_far\u001b[0m \u001b[1;33m=\u001b[0m \u001b[1;36m0\u001b[0m\u001b[1;33m\u001b[0m\u001b[1;33m\u001b[0m\u001b[0m\n\u001b[0;32m     17\u001b[0m     \u001b[1;32mfor\u001b[0m \u001b[0mshopping_list\u001b[0m \u001b[1;32min\u001b[0m \u001b[0mshopping_lists\u001b[0m\u001b[1;33m:\u001b[0m\u001b[1;33m\u001b[0m\u001b[1;33m\u001b[0m\u001b[0m\n\u001b[1;32m---> 18\u001b[1;33m         \u001b[0msum_so_far\u001b[0m \u001b[1;33m+=\u001b[0m \u001b[0mshopping_list_cost\u001b[0m\u001b[1;33m(\u001b[0m\u001b[0mshopping_list\u001b[0m\u001b[1;33m.\u001b[0m\u001b[0mitems\u001b[0m\u001b[1;33m)\u001b[0m\u001b[1;33m\u001b[0m\u001b[1;33m\u001b[0m\u001b[0m\n\u001b[0m\u001b[0;32m     19\u001b[0m     \u001b[1;32mreturn\u001b[0m \u001b[0msum_so_far\u001b[0m\u001b[1;33m\u001b[0m\u001b[1;33m\u001b[0m\u001b[0m\n\u001b[0;32m     20\u001b[0m \u001b[1;33m\u001b[0m\u001b[0m\n",
      "\u001b[1;31mTypeError\u001b[0m: unsupported operand type(s) for +=: 'float' and 'NoneType'"
     ]
    }
   ],
   "source": [
    "shopping_list1 = ShoppingList(\"trader joe's\", [apple, almonds])\n",
    "shopping_list2 = ShoppingList(\"Klaviyo\", [])\n",
    "assert total_cost([shopping_list1, shopping_list2]) == 1.23 + 7.99"
   ]
  },
  {
   "cell_type": "markdown",
   "metadata": {},
   "source": [
    "The bug is caused by return None. Since we are calculating the price, we should return 0 if its an empty shopping list."
   ]
  },
  {
   "cell_type": "code",
   "execution_count": 26,
   "metadata": {},
   "outputs": [],
   "source": [
    "class ShoppingList:\n",
    "    def __init__(self, store, items):\n",
    "        self.store = store\n",
    "        self.items = items\n",
    "\n",
    "class Item:\n",
    "    def __init__(self, name, price):\n",
    "        self.name = name\n",
    "        self.price = price\n",
    "        \n",
    "def total_cost(shopping_lists):\n",
    "    \"\"\"Given a list of ShoppingList, returns the total cost of the shopping lists, \n",
    "    or None if the input list is empty\"\"\"\n",
    "    if not shopping_lists:\n",
    "        return 0\n",
    "    sum_so_far = 0\n",
    "    for shopping_list in shopping_lists:\n",
    "        sum_so_far += shopping_list_cost(shopping_list.items)\n",
    "    return sum_so_far\n",
    "\n",
    "def shopping_list_cost(shopping_list):\n",
    "    \"\"\"Given a list of Items, returns the total cost of that shopping list.\"\"\"\n",
    "    if not shopping_list:\n",
    "        return 0\n",
    "    sum_so_far = 0\n",
    "    for item in shopping_list:\n",
    "        sum_so_far += item.price\n",
    "    return sum_so_far\n",
    "\n",
    "apple = Item(\"apple\", 1.23)\n",
    "almonds = Item(\"almonds\", 7.99)\n",
    "artichoke = Item(\"artichoke\", 4.99)\n",
    "shopping_list1 = ShoppingList(\"trader joe's\", [apple, almonds])\n",
    "\n",
    "assert shopping_list_cost([apple, almonds, artichoke]) == 1.23 + 7.99 + 4.99\n",
    "assert total_cost([shopping_list1]) == 1.23 + 7.99\n",
    "\n",
    "shopping_list2 = ShoppingList(\"Klaviyo\", [])\n",
    "assert total_cost([shopping_list1, shopping_list2]) == 1.23 + 7.99"
   ]
  },
  {
   "cell_type": "markdown",
   "metadata": {},
   "source": [
    "### Exercise 5\n",
    "Describe one of your favorite tools or techniques and give a small example of how it’s helped you solve a problem. Limit your answer to one paragraph, and please be specific."
   ]
  },
  {
   "cell_type": "markdown",
   "metadata": {},
   "source": [
    "One of my favorite tools is Google. We are in an age of big data and a search engine really helped me a lot. It can help me figure out lots of details of syntax. It can help me \"remember\" knowledge that barely used. But most important to me is that it can help me find tools that I need. I was working on the object detection project using deep learning. One crucial job was to annotate my images/data. Since I was new to deep learning several years ago, I had no idea how to annotate the data. Then I searched and amazingly found lots of solutions. In the end I chose LabelImg which was an open access tool on Github. It really helped me push foward my object detection project for early stage cancer detection."
   ]
  },
  {
   "cell_type": "markdown",
   "metadata": {},
   "source": []
  },
  {
   "cell_type": "markdown",
   "metadata": {},
   "source": [
    "*Markdown*"
   ]
  },
  {
   "cell_type": "markdown",
   "metadata": {},
   "source": [
    "LaTex: $\\LaTeX: \\alpha^2$"
   ]
  }
 ],
 "metadata": {
  "kernelspec": {
   "display_name": "Python 3",
   "language": "python",
   "name": "python3"
  },
  "language_info": {
   "codemirror_mode": {
    "name": "ipython",
    "version": 3
   },
   "file_extension": ".py",
   "mimetype": "text/x-python",
   "name": "python",
   "nbconvert_exporter": "python",
   "pygments_lexer": "ipython3",
   "version": "3.7.3"
  }
 },
 "nbformat": 4,
 "nbformat_minor": 4
}
